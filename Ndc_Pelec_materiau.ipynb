{
 "cells": [
  {
   "cell_type": "markdown",
   "id": "93555594-ac79-4dfd-a814-706de51e2060",
   "metadata": {},
   "source": [
    "# Note de calcul de la puissance électrique nécessaire pour chauffer un tube calorifugé en fonction de la nature de son matériau"
   ]
  },
  {
   "cell_type": "code",
   "execution_count": 1,
   "id": "b8886da7-2903-4403-9fe6-68f63a88e123",
   "metadata": {},
   "outputs": [],
   "source": [
    "#Imports\n",
    "import ipywidgets as widgets\n",
    "from numpy import pi, log\n",
    "import numpy as np\n",
    "import matplotlib.pyplot as plt"
   ]
  },
  {
   "cell_type": "markdown",
   "id": "117c90c1-85d1-4815-afcd-71bd2a56e61c",
   "metadata": {},
   "source": [
    "## Dimensions du tubes\n",
    "- La longueur du tube L_{section test} = $300$ mm\n",
    "- Le diamètre intérieur $D_{int}$ =  $2,03$ mm\n",
    "- Le diamètre extérieur $D_{ext}$ = $5,95$ mm\n",
    "- La conductivité thermique $\\lambda$ donnée par l'utilisat.eur.rice en $W.m^{-1}.K^{-1}$"
   ]
  },
  {
   "cell_type": "markdown",
   "id": "34718a31-9921-45c0-a8eb-9a331ed277e4",
   "metadata": {},
   "source": [
    "### Entrées"
   ]
  },
  {
   "cell_type": "code",
   "execution_count": 2,
   "id": "1bc3b96c-2218-4d0b-b0bb-4cd90bd6189c",
   "metadata": {},
   "outputs": [],
   "source": [
    "L = 0.3 ; Dint = 2.03E-3 ; Dext = 5.95E-3\n",
    "Sext = pi*Dext*L ; Sint = pi*Dint*L\n",
    "Aint = pi*Dint**2/4 ; Aext = pi*Dext**2/4 \n",
    "Vint = Aint*L"
   ]
  },
  {
   "cell_type": "markdown",
   "id": "caae4d97-3457-47fc-873a-c7eb9f8c8822",
   "metadata": {},
   "source": [
    "## Densité électrique et conductivité thermique"
   ]
  },
  {
   "cell_type": "code",
   "execution_count": 3,
   "id": "2351cf66-e62e-4088-8500-5c6735fdb997",
   "metadata": {
    "scrolled": true
   },
   "outputs": [
    {
     "data": {
      "application/vnd.jupyter.widget-view+json": {
       "model_id": "241f4908d05c469dbb761ff69ca3eb1c",
       "version_major": 2,
       "version_minor": 0
      },
      "text/plain": [
       "HBox(children=(VBox(children=(Label(value='Alliage', layout=Layout(display='flex', justify_content='center')),…"
      ]
     },
     "metadata": {},
     "output_type": "display_data"
    }
   ],
   "source": [
    "# Alliage (principal)\n",
    "t = widgets.Label(\"Alliage\",layout=widgets.Layout(display=\"flex\", justify_content=\"center\"))\n",
    "\n",
    "e = widgets.Text(value='Résistivité électrique alliage [ohm.m]', disabled=True)\n",
    "a = widgets.FloatText(min=1e-10, max=1e15, value = 250, description='rhoe_FT_a')\n",
    "b = widgets.FloatSlider(min=1e-10, max=1e15, value = 250, description = 'rhoe_FS_a')\n",
    "\n",
    "e1 = widgets.Text(value='Conductivité thermique alliage [W/K/m]', disabled=True)\n",
    "a1 = widgets.FloatText(min=1e-10, max=1e15, value = 250)\n",
    "b1 = widgets.FloatSlider(min=1e-10, max=1e15, value = 250)\n",
    "\n",
    "r = widgets.Text(value=r'R_th = ' + str(0), disabled=True)\n",
    "r1 = widgets.Text(value=r'R_elec = ' + str(0), disabled=True)\n",
    "\n",
    "# Couche protectrice\n",
    "t1 = widgets.Label(\"Couche protectrice\",layout=widgets.Layout(display=\"flex\", justify_content=\"center\"))\n",
    "\n",
    "e2 = widgets.Text(value='Epaisseur couche protectrice [um]', disabled=True)\n",
    "a2 = widgets.FloatText(description='e_FT_cp',value=25)\n",
    "b2 = widgets.FloatSlider(min=0, max=Dint*0.99999E6, description = 'e_FS_cp', value = 25)\n",
    "\n",
    "e3 = widgets.Text(value='Résistivité électrique couche protectrice [ohm.m]', disabled=True)\n",
    "a3 = widgets.FloatText(description='rhoe_FT_cp')\n",
    "b3 = widgets.FloatSlider(min=1e-10, max=1e15,description = 'rhoe_FS_cp')\n",
    "\n",
    "e4 = widgets.Text(value='Conductivité thermique couche protectrice [W/K/m]', disabled=True)\n",
    "a4 = widgets.FloatText(min=1e-10, max=1e15, value = 25, decription='lmbda_FT_cp')\n",
    "b4 = widgets.FloatSlider(min=1e-10, max=1e15, value = 25, description='lmbda_FS_cp')\n",
    "\n",
    "r2 = widgets.Text(value=r'R_th = ' + str(0), disabled=True)\n",
    "r3 = widgets.Text(value=r'R_elec = ' + str(0), disabled=True)\n",
    "\n",
    "mylink  = widgets.jslink((a, 'value'), (b, 'value'))\n",
    "mylink1  = widgets.jslink((a1, 'value'), (b1, 'value'))\n",
    "mylink2  = widgets.jslink((a2, 'value'), (b2, 'value'))\n",
    "mylink3  = widgets.jslink((a3, 'value'), (b3, 'value'))\n",
    "mylink4 = widgets.jslink((a4, 'value'), (b4, 'value'))\n",
    "\n",
    "vertical_box = widgets.VBox([t,e,a,b,e1,a1,b1,r,r1])\n",
    "vertical_box1 = widgets.VBox([t1,e2,a2,b2,e3,a3,b3,e4,a4,b4,r2,r3])\n",
    "sidetoside_box = widgets.HBox([vertical_box,vertical_box1])\n",
    "\n",
    "#Propriétés de l'alliage\n",
    "global rho_e, lmbda, R_a_elec, R_a_th\n",
    "rho_e = a.value # Résistivité électrique de l'alliage\n",
    "lmbda = a1.value # Conduction thermique de l'alliage\n",
    "R_a_elec = rho_e*Sext/L\n",
    "R_a_th = log(Dext/Dint)/(2*pi*lmbda*L)\n",
    "\n",
    "# Propriétés de la couche protectrice\n",
    "global e_cp, Sext_cp, rho_e_cp, lmbda_cp, R_cp_elec, R_cp_th, Aext_cp\n",
    "e_cp = a2.value*1E-6 # [m]\n",
    "Sext_cp = Sint # [m²]\n",
    "Aext_cp = pi*((Dint/2)**2 - ((Dint/2)-e_cp)**2) # [m²]\n",
    "rho_e_cp = a3.value\n",
    "lmbda_cp = a4.value\n",
    "R_cp_elec = rho_e_cp*Aext_cp/L\n",
    "R_cp_th = log(Dint/(Dint-e_cp))/(2*pi*lmbda_cp*L)\n",
    "\n",
    "#Interact\n",
    "\n",
    "def handle_slider_change_Rth(change):\n",
    "    global R_a_th\n",
    "    h = help(change)\n",
    "    R_a_th = log(Dext/Dint)/(2*pi*change.new*L)\n",
    "    r1.value = 'Rth = ' + str(round(R_a_th,5)) + ' [K/Wth]'\n",
    "b1.observe(handle_slider_change_Rth, names='value')\n",
    "\n",
    "def handle_slider_change_Relec(change):\n",
    "    global R_a_elec, change_name\n",
    "    R_a_elec = change.new*Sext/L \n",
    "    r.value = 'Rélec = ' + str(round(R_a_elec,10)) + ' [ohms]'\n",
    "b.observe(handle_slider_change_Relec, names='value')\n",
    "\n",
    "\n",
    "def handle_slider_change_R_cp(change):\n",
    "    global R_cp_th, Sext_cp, lmbda_cp, e_cp, R_cp_elec,Aext_cp, rho_e_cp\n",
    "    if change.owner.description == 'e_FS_cp' :\n",
    "        e_cp = change.new*1E-6\n",
    "        Aext_cp = pi*((Dint/2)**2 - ((Dint/2)-e_cp)**2)\n",
    "        R_cp_th = log(Dint/(Dint-e_cp))/(2*pi*lmbda_cp*L)\n",
    "        R_cp_elec = rho_e_cp*Aext_cp/L\n",
    "    elif change.owner.description == 'lmbda_FS_cp' :\n",
    "        lmbda_cp = change.new\n",
    "        R_cp_th = log(Dint/(Dint-e_cp))/(2*pi*lmbda_cp*L)\n",
    "    elif change.owner.description == 'rhoe_FS_cp':\n",
    "        rho_e_cp = change.new\n",
    "        R_cp_elec = rho_e_cp*Aext_cp/L\n",
    "    \n",
    "    r2.value = 'Rth = ' + str(round(R_cp_th,5)) + ' [K/Wth]'\n",
    "    r3.value = 'Relec = ' + str(round(R_cp_elec,20)) + ' [ohms]'\n",
    "                   \n",
    "b2.observe(handle_slider_change_R_cp, names='value')\n",
    "b3.observe(handle_slider_change_R_cp, names='value')\n",
    "b4.observe(handle_slider_change_R_cp, names='value')\n",
    "\n",
    "display(sidetoside_box)\n"
   ]
  },
  {
   "cell_type": "code",
   "execution_count": null,
   "id": "1f6275a0-7b26-4834-bdd6-0752e6c0679b",
   "metadata": {},
   "outputs": [],
   "source": []
  }
 ],
 "metadata": {
  "kernelspec": {
   "display_name": "Python 3 (ipykernel)",
   "language": "python",
   "name": "python3"
  },
  "language_info": {
   "codemirror_mode": {
    "name": "ipython",
    "version": 3
   },
   "file_extension": ".py",
   "mimetype": "text/x-python",
   "name": "python",
   "nbconvert_exporter": "python",
   "pygments_lexer": "ipython3",
   "version": "3.10.13"
  }
 },
 "nbformat": 4,
 "nbformat_minor": 5
}
